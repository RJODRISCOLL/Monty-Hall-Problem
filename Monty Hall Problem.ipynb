{
 "cells": [
  {
   "cell_type": "markdown",
   "metadata": {},
   "source": [
    "# Simulation study of the monty hall problem\n",
    "    Ruairi O'Driscoll \n",
    "    \n",
    "Behind 1/3 doors is £100,000. A player is offered the opportunity to choose 1/3 doors, the host opens 1/2 remaining doors to reveal nothing. Given the opportunity to switch, do you take it? \n"
   ]
  },
  {
   "cell_type": "code",
   "execution_count": 1,
   "metadata": {},
   "outputs": [],
   "source": [
    "import random"
   ]
  },
  {
   "cell_type": "code",
   "execution_count": 2,
   "metadata": {},
   "outputs": [],
   "source": [
    "def switching_player():\n",
    "    \n",
    "    doors = [1,2,3] #define the 3 doors as a list\n",
    "    money_door = random.choice(doors) #randomly assign \n",
    "    player_first_choice = random.choice(doors) #random pick of door\n",
    "    \n",
    "    if money_door != player_first_choice: # check if you win with first attemp\n",
    "        eliminate_door = [1,2,3] #create a list of elimation doors \n",
    "        eliminate_door.remove(money_door) #remove winning door as you can't be shown that\n",
    "        eliminate_door.remove(player_first_choice) #remove first choice\n",
    "        \n",
    "        doors.remove(eliminate_door[0]) # remove the chosen elimiation door\n",
    "        doors.remove(player_first_choice) #remove their initial first choise \n",
    "        \n",
    "        player_second_choice = doors[0] #pick second remaining door\n",
    "        \n",
    "        if player_second_choice == money_door:  #check if this is the money door\n",
    "            return 1\n",
    "        else:\n",
    "            return 0 \n",
    "        \n",
    "    else: \n",
    "        eliminate_door = [1,2,3] # create a list of elimation doors \n",
    "        eliminate_door.remove(player_first_choice) # remove first choice \n",
    "        eliminate_door = random.choice(eliminate_door) # choose a random one\n",
    "        doors.remove(eliminate_door) #remove elimiation door\n",
    "        doors.remove(player_first_choice) #remove their first choice\n",
    "        player_second_choice = doors[0] # remaining\n",
    "        \n",
    "        if player_second_choice == money_door: #check if win\n",
    "            return 1\n",
    "        else: \n",
    "            return 0 \n",
    "                "
   ]
  },
  {
   "cell_type": "code",
   "execution_count": 18,
   "metadata": {},
   "outputs": [
    {
     "name": "stdout",
     "output_type": "stream",
     "text": [
      "If you switch, out off 1000000 attempts, you win 667171 times! This is a 66.7171% win rate\n"
     ]
    }
   ],
   "source": [
    "runs = 1000000\n",
    "iterations = runs\n",
    "switching_result = 0\n",
    "\n",
    "while iterations > 0:\n",
    "    switching_result = switching_result + switching_player()\n",
    "    iterations = iterations -1\n",
    "\n",
    "percentage= (switching_result / runs)*100\n",
    "\n",
    "print('If you switch, out off {0} attempts, you win {1} times! This is a {2}% win rate'.format(runs, switching_result, percentage))\n"
   ]
  }
 ],
 "metadata": {
  "kernelspec": {
   "display_name": "Python 3",
   "language": "python",
   "name": "python3"
  },
  "language_info": {
   "codemirror_mode": {
    "name": "ipython",
    "version": 3
   },
   "file_extension": ".py",
   "mimetype": "text/x-python",
   "name": "python",
   "nbconvert_exporter": "python",
   "pygments_lexer": "ipython3",
   "version": "3.6.8"
  }
 },
 "nbformat": 4,
 "nbformat_minor": 2
}
